{
  "cells": [
    {
      "cell_type": "markdown",
      "metadata": {
        "id": "tLQCXtIcAXjM"
      },
      "source": [
        "# Required Modules\n",
        "Set up and install the necessary modules for solving Sokoban puzzles."
      ]
    },
    {
      "cell_type": "code",
      "execution_count": 1,
      "metadata": {
        "colab": {
          "base_uri": "https://localhost:8080/"
        },
        "id": "lpsPtJ8_hoyF",
        "outputId": "a864c60c-e141-4196-8d00-e39a4b871303"
      },
      "outputs": [
        {
          "output_type": "stream",
          "name": "stdout",
          "text": [
            "Collecting python-sat\n",
            "  Downloading python_sat-1.8.dev13-cp310-cp310-manylinux_2_12_x86_64.manylinux2010_x86_64.manylinux_2_28_x86_64.whl.metadata (1.5 kB)\n",
            "Requirement already satisfied: six in /usr/local/lib/python3.10/dist-packages (from python-sat) (1.17.0)\n",
            "Downloading python_sat-1.8.dev13-cp310-cp310-manylinux_2_12_x86_64.manylinux2010_x86_64.manylinux_2_28_x86_64.whl (2.7 MB)\n",
            "\u001b[?25l   \u001b[90m━━━━━━━━━━━━━━━━━━━━━━━━━━━━━━━━━━━━━━━━\u001b[0m \u001b[32m0.0/2.7 MB\u001b[0m \u001b[31m?\u001b[0m eta \u001b[36m-:--:--\u001b[0m\r\u001b[2K   \u001b[91m━━━━━━━━━━━━━━━━━━━━━━━━━━━━━━━━━━━━━━━\u001b[0m\u001b[91m╸\u001b[0m \u001b[32m2.7/2.7 MB\u001b[0m \u001b[31m87.4 MB/s\u001b[0m eta \u001b[36m0:00:01\u001b[0m\r\u001b[2K   \u001b[90m━━━━━━━━━━━━━━━━━━━━━━━━━━━━━━━━━━━━━━━━\u001b[0m \u001b[32m2.7/2.7 MB\u001b[0m \u001b[31m46.8 MB/s\u001b[0m eta \u001b[36m0:00:00\u001b[0m\n",
            "\u001b[?25hInstalling collected packages: python-sat\n",
            "Successfully installed python-sat-1.8.dev13\n"
          ]
        }
      ],
      "source": [
        "# Install the pysat module for SAT-based problem-solving.\n",
        "!pip install python-sat"
      ]
    },
    {
      "cell_type": "code",
      "execution_count": 2,
      "metadata": {
        "id": "AZuEiwHTAUjR"
      },
      "outputs": [],
      "source": [
        "# Import necessary modules for SAT encoding and decoding.\n",
        "from pysat.formula import CNF\n",
        "from pysat.solvers import Solver\n",
        "import copy"
      ]
    },
    {
      "cell_type": "markdown",
      "metadata": {
        "id": "c4UnrkwvAyyP"
      },
      "source": [
        "# Atom Encoding and Decoding\n",
        "Implement methods to encode and decode puzzle elements."
      ]
    },
    {
      "cell_type": "code",
      "execution_count": 3,
      "metadata": {
        "id": "O4lE0za4A0-A"
      },
      "outputs": [],
      "source": [
        "# Define global dictionaries to map atoms to encoded integers.\n",
        "atoms_dict = {} # (kind, i, j, t) => ID\n",
        "reverse_atoms_dict ={} # ID => (kind, i, j, t)\n",
        "lastUsedID = 0"
      ]
    },
    {
      "cell_type": "code",
      "execution_count": 4,
      "metadata": {
        "id": "QzOEt9E9Btv-"
      },
      "outputs": [],
      "source": [
        "# Function to encode variables as unique positive integers.\n",
        "def encodeAtom(kind, i, j, t):\n",
        "        global lastUsedID, atoms_dict, reverse_atoms_dict\n",
        "\n",
        "        if not ((kind, i, j, t) in atoms_dict):\n",
        "          lastUsedID += 1\n",
        "          atoms_dict[(kind, i, j, t)] =  lastUsedID\n",
        "          reverse_atoms_dict[lastUsedID] = (kind, i, j, t)\n",
        "        return atoms_dict[(kind, i, j, t)]"
      ]
    },
    {
      "cell_type": "markdown",
      "metadata": {
        "id": "MUuPHXj6iUaH"
      },
      "source": [
        "Finally, decode the numerical IDs back into their respective atom representations."
      ]
    },
    {
      "cell_type": "code",
      "execution_count": 5,
      "metadata": {
        "id": "9vgDR7yQAWl1"
      },
      "outputs": [],
      "source": [
        "# Function to decode integers back to their corresponding atoms.\n",
        "def decodeAtom(ID):\n",
        "    global reverse_atoms_dict\n",
        "    if abs(ID) in reverse_atoms_dict:\n",
        "        return reverse_atoms_dict[abs(ID)]\n",
        "    return -1"
      ]
    },
    {
      "cell_type": "markdown",
      "metadata": {
        "id": "oZfhSm79B1Gt"
      },
      "source": [
        "# Puzzle Conditions\n",
        "Define logical constraints to guide the solution."
      ]
    },
    {
      "cell_type": "markdown",
      "metadata": {
        "id": "FCds5zffB-Gf"
      },
      "source": [
        "## 1. Initial Board Configuration\n",
        "Define clauses representing the puzzle's initial state."
      ]
    },
    {
      "cell_type": "code",
      "execution_count": 6,
      "metadata": {
        "id": "J_SqNI0KCZJI"
      },
      "outputs": [],
      "source": [
        "# Generate clauses for the initial state of the puzzle board.\n",
        "def create_initial_clauses(clauses, StartBoard):\n",
        "\n",
        "    height = len(StartBoard)\n",
        "    width = len(StartBoard[0])\n",
        "\n",
        "    for i in range(height):\n",
        "      for j in range(width):\n",
        "\n",
        "        if StartBoard[i][j] == 'b':\n",
        "          clauses.append([encodeAtom(1, i, j, 0)])\n",
        "        else:\n",
        "          clauses.append([-encodeAtom(1, i, j, 0)])\n",
        "        if StartBoard[i][j] == 'p':\n",
        "          clauses.append([encodeAtom(0, i, j, 0)])\n",
        "        else:\n",
        "          clauses.append([-encodeAtom(0, i, j, 0)])\n",
        "\n",
        "    return clauses"
      ]
    },
    {
      "cell_type": "markdown",
      "metadata": {
        "id": "2DLAzfclCqbs"
      },
      "source": [
        "## 2. Final Board Configuration\n",
        "Add constraints to meet the puzzle's goal conditions."
      ]
    },
    {
      "cell_type": "code",
      "execution_count": 7,
      "metadata": {
        "id": "WVWWy1yxDYqa"
      },
      "outputs": [],
      "source": [
        "# Add constraints to ensure the final board satisfies goal conditions.\n",
        "def create_Final_clause(clauses, goal_position, max_steps):\n",
        "\n",
        "  clauses.append([encodeAtom(1, *goal_position, max_steps)])\n",
        "  return clauses\n",
        "\n",
        "## Remove final clause (if steps were not enough)\n",
        "def Delete_Final_clause(clauses, goal_position, max_steps):\n",
        "\n",
        "  clauses.clauses.pop()\n",
        "\n",
        "  return clauses"
      ]
    },
    {
      "cell_type": "markdown",
      "metadata": {
        "id": "AacJhahiDaF4"
      },
      "source": [
        "## 3. State Transitions\n",
        "Model valid transitions and movements within the puzzle."
      ]
    },
    {
      "cell_type": "code",
      "execution_count": 8,
      "metadata": {
        "id": "hy4HGX5NCplU"
      },
      "outputs": [],
      "source": [
        "\n",
        "# Represent valid transitions between puzzle states using clauses.\n",
        "def create_transition_clauses(clauses, StartBoard, step_number):\n",
        "    height = len(StartBoard)\n",
        "    width = len(StartBoard[0])\n",
        "    k = step_number\n",
        "\n",
        "    for i1 in range(height):\n",
        "      for i2 in range(height):\n",
        "        for j1 in range(width):\n",
        "          for j2 in range(width):\n",
        "            if i1 != i2 or j1 != j2:\n",
        "              clauses.append([-encodeAtom(0, i1, j1, k), -encodeAtom(0, i2, j2, k)])\n",
        "              clauses.append([-encodeAtom(1, i1, j1, k), -encodeAtom(1, i2, j2, k)])\n",
        "\n",
        "    for i in range(height):\n",
        "      for j in range(width):\n",
        "\n",
        "        if StartBoard[i][j] == 1:\n",
        "          clauses.append([-encodeAtom(0, i, j, step_number)])\n",
        "          clauses.append([-encodeAtom(1, i, j, step_number)])\n",
        "\n",
        "        clauses.append([-encodeAtom(0, i, j, step_number) , -encodeAtom(1, i, j, step_number)])\n",
        "        if step_number != 0:\n",
        "          clauses.append([-encodeAtom(0, i, j, step_number), encodeAtom(0, i + 1, j, step_number - 1), encodeAtom(0, i - 1, j, step_number - 1),\n",
        "                          encodeAtom(0, i, j + 1, step_number - 1), encodeAtom(0, i, j - 1, step_number - 1)])\n",
        "        clauses.append([-encodeAtom(0, i, j, step_number), encodeAtom(0, i + 1, j, step_number + 1), encodeAtom(0, i - 1, j, step_number + 1),\n",
        "                        encodeAtom(0, i, j + 1, step_number + 1), encodeAtom(0, i, j - 1, step_number + 1)])\n",
        "\n",
        "        l1 = [encodeAtom(1, i - 1, j, k - 1), encodeAtom(0, i - 2, j, k - 1), encodeAtom(0, i - 1, j, k)]\n",
        "        l2 = [encodeAtom(1, i + 1, j, k - 1), encodeAtom(0, i + 2, j, k - 1), encodeAtom(0, i + 1, j, k)]\n",
        "        l3 = [encodeAtom(1, i, j - 1, k - 1), encodeAtom(0, i, j - 2, k - 1), encodeAtom(0, i, j - 1, k)]\n",
        "        l4 = [encodeAtom(1, i, j + 1, k - 1), encodeAtom(0, i, j + 2, k - 1), encodeAtom(0, i, j + 1, k)]\n",
        "\n",
        "        if step_number != 0:\n",
        "          for ind1 in range(3):\n",
        "            for ind2 in range(3):\n",
        "              for ind3 in range(3):\n",
        "                for ind4 in range(3):\n",
        "                  clauses.append([-encodeAtom(1, i, j, k), encodeAtom(1, i, j, k - 1), l1[ind1], l2[ind2], l3[ind3], l4[ind4]])\n",
        "\n",
        "\n",
        "    return clauses"
      ]
    },
    {
      "cell_type": "markdown",
      "metadata": {
        "id": "SX0uuE5FEgyM"
      },
      "source": [
        "# Solution Decoding\n",
        "Extract and display the solution from the solver's results."
      ]
    },
    {
      "cell_type": "code",
      "execution_count": 9,
      "metadata": {
        "id": "sVfylZ8YEgUC"
      },
      "outputs": [],
      "source": [
        "def print_solution(model,StartBoard,number_of_steps):\n",
        "\n",
        "    height = len(StartBoard)\n",
        "    width = len(StartBoard[0])\n",
        "\n",
        "    print('\\n## Solution:')\n",
        "    print('\\n Number of steps: ' + str(number_of_steps) + '\\n')\n",
        "    for t in range(number_of_steps+1):\n",
        "        print(\"\\n STEP \" + str(t) + ' Board:')\n",
        "\n",
        "        # deepCopy will copy Board in 2D array (pass by value)\n",
        "        A = copy.deepcopy(StartBoard)\n",
        "        for i in range(len(A)):\n",
        "          for j in range(len(A[i])):\n",
        "            if A[i][j] == 'p' or A[i][j] == 'b':\n",
        "              A[i][j] = 0\n",
        "\n",
        "        for phi in model:\n",
        "          atom = decodeAtom(phi)\n",
        "          if phi >= 0 and atom[3] == t and min(atom[1], atom[2]) >= 0 and atom[1] < height and atom[2] < width:\n",
        "            if atom[0] == 0:\n",
        "              A[atom[1]][atom[2]] = 'p'\n",
        "            elif atom[0] == 1:\n",
        "              A[atom[1]][atom[2]] = 'b'\n",
        "\n",
        "        for i in range(len(A)):\n",
        "          for j in range(len(A[i])):\n",
        "            print(A[i][j], end=' ')\n",
        "          print()\n",
        "\n",
        "    print('\\n## END of solution')\n",
        "    return True"
      ]
    },
    {
      "cell_type": "markdown",
      "metadata": {
        "id": "YPmjaivfEmLs"
      },
      "source": [
        "# Solver Implementation\n",
        "Develop the main function to solve the puzzle using SAT logic."
      ]
    },
    {
      "cell_type": "code",
      "execution_count": 10,
      "metadata": {
        "id": "MwznUsihEsOe"
      },
      "outputs": [],
      "source": [
        "def solve_sokoban(StartBoard, goal_position, max_steps):\n",
        "\n",
        "    clauses = CNF()\n",
        "    clauses = create_initial_clauses(clauses, StartBoard)\n",
        "\n",
        "    height = len(StartBoard)\n",
        "    width = len(StartBoard[0])\n",
        "\n",
        "\n",
        "    for i in range(-1, height + 1):\n",
        "      for j in range(-1, width + 1):\n",
        "        for s in range(-1, max_steps + 1):\n",
        "          if min(i, j, s) == -1 or i >= height or j >= width:\n",
        "            clauses.append([-encodeAtom(0, i, j, s)])\n",
        "            clauses.append([-encodeAtom(1, i, j, s)])\n",
        "\n",
        "    for s in range(0, max_steps + 1):\n",
        "      create_transition_clauses(clauses, StartBoard, s)\n",
        "      create_Final_clause(clauses, goal_position, s)\n",
        "      solver = Solver(bootstrap_with=clauses)\n",
        "\n",
        "      if solver.solve():\n",
        "        model = solver.get_model()\n",
        "        print_solution(model, StartBoard, s)\n",
        "        break\n",
        "\n",
        "      Delete_Final_clause(clauses, goal_position, s)\n",
        "      solver.delete()\n",
        "    else:\n",
        "      print(\"No solution found\")\n",
        "\n",
        "    return None"
      ]
    },
    {
      "cell_type": "markdown",
      "metadata": {
        "id": "nCUBfLgSE37a"
      },
      "source": [
        "# Game Setup\n",
        "Create and solve Sokoban puzzles using the implemented solver."
      ]
    },
    {
      "cell_type": "code",
      "execution_count": 11,
      "metadata": {
        "colab": {
          "base_uri": "https://localhost:8080/"
        },
        "id": "OQhxwHoOhpv4",
        "outputId": "8d6706c9-69bb-48f4-b6eb-b8df036aa5a6"
      },
      "outputs": [
        {
          "output_type": "stream",
          "name": "stdout",
          "text": [
            "\n",
            "## Solution:\n",
            "\n",
            " Number of steps: 11\n",
            "\n",
            "\n",
            " STEP 0 Board:\n",
            "0 0 0 0 0 \n",
            "p b 1 0 0 \n",
            "0 0 0 0 0 \n",
            "0 0 1 0 0 \n",
            "0 0 1 0 0 \n",
            "\n",
            " STEP 1 Board:\n",
            "p 0 0 0 0 \n",
            "0 b 1 0 0 \n",
            "0 0 0 0 0 \n",
            "0 0 1 0 0 \n",
            "0 0 1 0 0 \n",
            "\n",
            " STEP 2 Board:\n",
            "0 p 0 0 0 \n",
            "0 b 1 0 0 \n",
            "0 0 0 0 0 \n",
            "0 0 1 0 0 \n",
            "0 0 1 0 0 \n",
            "\n",
            " STEP 3 Board:\n",
            "0 0 0 0 0 \n",
            "0 p 1 0 0 \n",
            "0 b 0 0 0 \n",
            "0 0 1 0 0 \n",
            "0 0 1 0 0 \n",
            "\n",
            " STEP 4 Board:\n",
            "0 0 0 0 0 \n",
            "p 0 1 0 0 \n",
            "0 b 0 0 0 \n",
            "0 0 1 0 0 \n",
            "0 0 1 0 0 \n",
            "\n",
            " STEP 5 Board:\n",
            "0 0 0 0 0 \n",
            "0 0 1 0 0 \n",
            "p b 0 0 0 \n",
            "0 0 1 0 0 \n",
            "0 0 1 0 0 \n",
            "\n",
            " STEP 6 Board:\n",
            "0 0 0 0 0 \n",
            "0 0 1 0 0 \n",
            "0 p b 0 0 \n",
            "0 0 1 0 0 \n",
            "0 0 1 0 0 \n",
            "\n",
            " STEP 7 Board:\n",
            "0 0 0 0 0 \n",
            "0 0 1 0 0 \n",
            "0 0 p b 0 \n",
            "0 0 1 0 0 \n",
            "0 0 1 0 0 \n",
            "\n",
            " STEP 8 Board:\n",
            "0 0 0 0 0 \n",
            "0 0 1 0 0 \n",
            "0 0 0 p b \n",
            "0 0 1 0 0 \n",
            "0 0 1 0 0 \n",
            "\n",
            " STEP 9 Board:\n",
            "0 0 0 0 0 \n",
            "0 0 1 p 0 \n",
            "0 0 0 0 b \n",
            "0 0 1 0 0 \n",
            "0 0 1 0 0 \n",
            "\n",
            " STEP 10 Board:\n",
            "0 0 0 0 0 \n",
            "0 0 1 0 p \n",
            "0 0 0 0 b \n",
            "0 0 1 0 0 \n",
            "0 0 1 0 0 \n",
            "\n",
            " STEP 11 Board:\n",
            "0 0 0 0 0 \n",
            "0 0 1 0 0 \n",
            "0 0 0 0 p \n",
            "0 0 1 0 b \n",
            "0 0 1 0 0 \n",
            "\n",
            "## END of solution\n"
          ]
        }
      ],
      "source": [
        "if __name__ == '__main__':\n",
        "\n",
        "    goal_position = (3, 4)\n",
        "    StartBoard = [\n",
        "        [0, 0, 0, 0, 0],\n",
        "        ['p', 'b', 1, 0, 0],\n",
        "        [0, 0, 0, 0, 0],\n",
        "        [0, 0, 1, 0, 0],\n",
        "        [0, 0, 1, 0, 0]\n",
        "    ]\n",
        "\n",
        "    max_steps = 11\n",
        "\n",
        "    solve_sokoban(StartBoard, goal_position, max_steps)"
      ]
    }
  ],
  "metadata": {
    "colab": {
      "provenance": []
    },
    "kernelspec": {
      "display_name": "Python 3",
      "name": "python3"
    },
    "language_info": {
      "name": "python"
    }
  },
  "nbformat": 4,
  "nbformat_minor": 0
}
