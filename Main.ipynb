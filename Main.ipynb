{
  "nbformat": 4,
  "nbformat_minor": 0,
  "metadata": {
    "colab": {
      "provenance": [],
      "collapsed_sections": [
        "2DLAzfclCqbs",
        "AacJhahiDaF4",
        "YPmjaivfEmLs"
      ]
    },
    "kernelspec": {
      "name": "python3",
      "display_name": "Python 3"
    },
    "language_info": {
      "name": "python"
    }
  },
  "cells": [
    {
      "cell_type": "markdown",
      "source": [
        "# Modules\n",
        "Downloading pysat module"
      ],
      "metadata": {
        "id": "tLQCXtIcAXjM"
      }
    },
    {
      "cell_type": "code",
      "execution_count": 1,
      "metadata": {
        "id": "lpsPtJ8_hoyF",
        "colab": {
          "base_uri": "https://localhost:8080/"
        },
        "outputId": "eeaa7b25-3569-4360-af9c-f4e29579facd"
      },
      "outputs": [
        {
          "output_type": "stream",
          "name": "stdout",
          "text": [
            "Collecting python-sat\n",
            "  Downloading python_sat-1.8.dev13-cp310-cp310-manylinux_2_12_x86_64.manylinux2010_x86_64.manylinux_2_28_x86_64.whl.metadata (1.5 kB)\n",
            "Requirement already satisfied: six in /usr/local/lib/python3.10/dist-packages (from python-sat) (1.16.0)\n",
            "Downloading python_sat-1.8.dev13-cp310-cp310-manylinux_2_12_x86_64.manylinux2010_x86_64.manylinux_2_28_x86_64.whl (2.7 MB)\n",
            "\u001b[?25l   \u001b[90m━━━━━━━━━━━━━━━━━━━━━━━━━━━━━━━━━━━━━━━━\u001b[0m \u001b[32m0.0/2.7 MB\u001b[0m \u001b[31m?\u001b[0m eta \u001b[36m-:--:--\u001b[0m\r\u001b[2K   \u001b[91m━━━━━━━━━━━━━━━━━━━━━━━━━━━━━━━━━━━━━━━\u001b[0m\u001b[91m╸\u001b[0m \u001b[32m2.7/2.7 MB\u001b[0m \u001b[31m90.2 MB/s\u001b[0m eta \u001b[36m0:00:01\u001b[0m\r\u001b[2K   \u001b[90m━━━━━━━━━━━━━━━━━━━━━━━━━━━━━━━━━━━━━━━━\u001b[0m \u001b[32m2.7/2.7 MB\u001b[0m \u001b[31m47.0 MB/s\u001b[0m eta \u001b[36m0:00:00\u001b[0m\n",
            "\u001b[?25hInstalling collected packages: python-sat\n",
            "Successfully installed python-sat-1.8.dev13\n"
          ]
        }
      ],
      "source": [
        "# Download pysat Module(s)\n",
        "!pip install python-sat"
      ]
    },
    {
      "cell_type": "code",
      "source": [
        "#imported Modules\n",
        "from pysat.formula import CNF\n",
        "from pysat.solvers import Solver\n",
        "import copy"
      ],
      "metadata": {
        "id": "AZuEiwHTAUjR"
      },
      "execution_count": 2,
      "outputs": []
    },
    {
      "cell_type": "markdown",
      "source": [
        "# Atoms"
      ],
      "metadata": {
        "id": "c4UnrkwvAyyP"
      }
    },
    {
      "cell_type": "code",
      "source": [
        "#global Dictionaries for encoded atoms\n",
        "atoms_dict = {} # (kind, i, j, t) => ID\n",
        "reverse_atoms_dict ={} # ID => (kind, i, j, t)\n",
        "lastUsedID = 0"
      ],
      "metadata": {
        "id": "O4lE0za4A0-A"
      },
      "execution_count": 3,
      "outputs": []
    },
    {
      "cell_type": "code",
      "source": [
        "#Encode variables to a positive number\n",
        "def encodeAtom(kind, i, j, t):\n",
        "        global lastUsedID, atoms_dict, reverse_atoms_dict\n",
        "\n",
        "        if not ((kind, i, j, t) in atoms_dict):\n",
        "          lastUsedID += 1\n",
        "          atoms_dict[(kind, i, j, t)] =  lastUsedID\n",
        "          reverse_atoms_dict[lastUsedID] = (kind, i, j, t)\n",
        "        return atoms_dict[(kind, i, j, t)]"
      ],
      "metadata": {
        "id": "QzOEt9E9Btv-"
      },
      "execution_count": 4,
      "outputs": []
    },
    {
      "cell_type": "markdown",
      "source": [
        "At last you can decode ID to Atom properties which is a tuple of the form (kind, i, j, t)."
      ],
      "metadata": {
        "id": "MUuPHXj6iUaH"
      }
    },
    {
      "cell_type": "code",
      "source": [
        "#Decode Integers to Atoms\n",
        "def decodeAtom(ID):\n",
        "    global reverse_atoms_dict\n",
        "    if abs(ID) in reverse_atoms_dict:\n",
        "        return reverse_atoms_dict[abs(ID)]\n",
        "    return -1"
      ],
      "metadata": {
        "id": "9vgDR7yQAWl1"
      },
      "execution_count": 5,
      "outputs": []
    },
    {
      "cell_type": "markdown",
      "source": [
        "# Coditions"
      ],
      "metadata": {
        "id": "oZfhSm79B1Gt"
      }
    },
    {
      "cell_type": "markdown",
      "source": [
        "## 1. INITIAL BOARD\n",
        "Generate clauses for the initial board by setting atoms based on the initial board configuration.\n"
      ],
      "metadata": {
        "id": "FCds5zffB-Gf"
      }
    },
    {
      "cell_type": "code",
      "source": [
        "# CONDITION 1 : INITIAL BOARD\n",
        "def create_initial_clauses(clauses, StartBoard):\n",
        "\n",
        "    height = len(StartBoard)\n",
        "    width = len(StartBoard[0])\n",
        "\n",
        "    for i in range(height):\n",
        "      for j in range(width):\n",
        "\n",
        "        if StartBoard[i][j] == 'b':\n",
        "          clauses.append([encodeAtom(1, i, j, 0)])\n",
        "        else:\n",
        "          clauses.append([-encodeAtom(1, i, j, 0)])\n",
        "        if StartBoard[i][j] == 'p':\n",
        "          clauses.append([encodeAtom(0, i, j, 0)])\n",
        "        else:\n",
        "          clauses.append([-encodeAtom(0, i, j, 0)])\n",
        "\n",
        "    return clauses"
      ],
      "metadata": {
        "id": "J_SqNI0KCZJI"
      },
      "execution_count": 6,
      "outputs": []
    },
    {
      "cell_type": "markdown",
      "source": [
        "## 2. Final Board"
      ],
      "metadata": {
        "id": "2DLAzfclCqbs"
      }
    },
    {
      "cell_type": "markdown",
      "source": [
        "\n",
        "For the first function, you must add a clause that satisfies our final board condition. For the second function, remove the added condition in case of unsatisfiability in the assumed steps."
      ],
      "metadata": {
        "id": "6HQQRqZ9DY1S"
      }
    },
    {
      "cell_type": "code",
      "source": [
        "##Adding final clause condition (box in goal position)\n",
        "def create_Final_clause(clauses, goal_position, max_steps):\n",
        "\n",
        "  clauses.append([encodeAtom(1, *goal_position, max_steps)])\n",
        "  return clauses\n",
        "\n",
        "## Remove final clause (if steps were not enough)\n",
        "def Delete_Final_clause(clauses, goal_position, max_steps):\n",
        "\n",
        "  clauses.clauses.pop()\n",
        "\n",
        "  return clauses"
      ],
      "metadata": {
        "id": "WVWWy1yxDYqa"
      },
      "execution_count": 7,
      "outputs": []
    },
    {
      "cell_type": "markdown",
      "source": [
        "## 3. Transition"
      ],
      "metadata": {
        "id": "AacJhahiDaF4"
      }
    },
    {
      "cell_type": "code",
      "source": [
        "\n",
        "# CONDITION 3 : Transition\n",
        "def create_transition_clauses(clauses, StartBoard, step_number):\n",
        "    height = len(StartBoard)\n",
        "    width = len(StartBoard[0])\n",
        "    k = step_number\n",
        "\n",
        "    for i1 in range(height):\n",
        "      for i2 in range(height):\n",
        "        for j1 in range(width):\n",
        "          for j2 in range(width):\n",
        "            if i1 != i2 or j1 != j2:\n",
        "              clauses.append([-encodeAtom(0, i1, j1, k), -encodeAtom(0, i2, j2, k)])\n",
        "              clauses.append([-encodeAtom(1, i1, j1, k), -encodeAtom(1, i2, j2, k)])\n",
        "\n",
        "    for i in range(height):\n",
        "      for j in range(width):\n",
        "\n",
        "        if StartBoard[i][j] == 1:\n",
        "          clauses.append([-encodeAtom(0, i, j, step_number)])\n",
        "          clauses.append([-encodeAtom(1, i, j, step_number)])\n",
        "\n",
        "        clauses.append([-encodeAtom(0, i, j, step_number) , -encodeAtom(1, i, j, step_number)])\n",
        "        if step_number != 0:\n",
        "          clauses.append([-encodeAtom(0, i, j, step_number), encodeAtom(0, i + 1, j, step_number - 1), encodeAtom(0, i - 1, j, step_number - 1),\n",
        "                          encodeAtom(0, i, j + 1, step_number - 1), encodeAtom(0, i, j - 1, step_number - 1)])\n",
        "        clauses.append([-encodeAtom(0, i, j, step_number), encodeAtom(0, i + 1, j, step_number + 1), encodeAtom(0, i - 1, j, step_number + 1),\n",
        "                        encodeAtom(0, i, j + 1, step_number + 1), encodeAtom(0, i, j - 1, step_number + 1)])\n",
        "\n",
        "        l1 = [encodeAtom(1, i - 1, j, k - 1), encodeAtom(0, i - 2, j, k - 1), encodeAtom(0, i - 1, j, k)]\n",
        "        l2 = [encodeAtom(1, i + 1, j, k - 1), encodeAtom(0, i + 2, j, k - 1), encodeAtom(0, i + 1, j, k)]\n",
        "        l3 = [encodeAtom(1, i, j - 1, k - 1), encodeAtom(0, i, j - 2, k - 1), encodeAtom(0, i, j - 1, k)]\n",
        "        l4 = [encodeAtom(1, i, j + 1, k - 1), encodeAtom(0, i, j + 2, k - 1), encodeAtom(0, i, j + 1, k)]\n",
        "\n",
        "        if step_number != 0:\n",
        "          for ind1 in range(3):\n",
        "            for ind2 in range(3):\n",
        "              for ind3 in range(3):\n",
        "                for ind4 in range(3):\n",
        "                  clauses.append([-encodeAtom(1, i, j, k), encodeAtom(1, i, j, k - 1), l1[ind1], l2[ind2], l3[ind3], l4[ind4]])\n",
        "\n",
        "\n",
        "    return clauses"
      ],
      "metadata": {
        "id": "hy4HGX5NCplU"
      },
      "execution_count": 8,
      "outputs": []
    },
    {
      "cell_type": "markdown",
      "source": [
        "# Decode Solution"
      ],
      "metadata": {
        "id": "SX0uuE5FEgyM"
      }
    },
    {
      "cell_type": "code",
      "source": [
        "def print_solution(model,StartBoard,number_of_steps):\n",
        "\n",
        "    height = len(StartBoard)\n",
        "    width = len(StartBoard[0])\n",
        "\n",
        "    print('\\n## Solution:')\n",
        "    print('\\n Number of steps: ' + str(number_of_steps) + '\\n')\n",
        "    for t in range(number_of_steps+1):\n",
        "        print(\"\\n STEP \" + str(t) + ' Board:')\n",
        "\n",
        "        # deepCopy will copy Board in 2D array (pass by value)\n",
        "        A = copy.deepcopy(StartBoard)\n",
        "        for i in range(len(A)):\n",
        "          for j in range(len(A[i])):\n",
        "            if A[i][j] == 'p' or A[i][j] == 'b':\n",
        "              A[i][j] = 0\n",
        "\n",
        "        for phi in model:\n",
        "          atom = decodeAtom(phi)\n",
        "          if phi >= 0 and atom[3] == t and min(atom[1], atom[2]) >= 0 and atom[1] < height and atom[2] < width:\n",
        "            if atom[0] == 0:\n",
        "              A[atom[1]][atom[2]] = 'p'\n",
        "            elif atom[0] == 1:\n",
        "              A[atom[1]][atom[2]] = 'b'\n",
        "\n",
        "        for i in range(len(A)):\n",
        "          for j in range(len(A[i])):\n",
        "            print(A[i][j], end=' ')\n",
        "          print()\n",
        "\n",
        "    print('\\n## END of solution')\n",
        "    return True"
      ],
      "metadata": {
        "id": "sVfylZ8YEgUC"
      },
      "execution_count": 9,
      "outputs": []
    },
    {
      "cell_type": "markdown",
      "source": [
        "# Solver function"
      ],
      "metadata": {
        "id": "YPmjaivfEmLs"
      }
    },
    {
      "cell_type": "code",
      "source": [
        "def solve_sokoban(StartBoard, goal_position, max_steps):\n",
        "\n",
        "    clauses = CNF()\n",
        "    clauses = create_initial_clauses(clauses, StartBoard)\n",
        "\n",
        "    height = len(StartBoard)\n",
        "    width = len(StartBoard[0])\n",
        "\n",
        "\n",
        "    for i in range(-1, height + 1):\n",
        "      for j in range(-1, width + 1):\n",
        "        for s in range(-1, max_steps + 1):\n",
        "          if min(i, j, s) == -1 or i >= height or j >= width:\n",
        "            clauses.append([-encodeAtom(0, i, j, s)])\n",
        "            clauses.append([-encodeAtom(1, i, j, s)])\n",
        "\n",
        "    for s in range(0, max_steps + 1):\n",
        "      create_transition_clauses(clauses, StartBoard, s)\n",
        "      create_Final_clause(clauses, goal_position, s)\n",
        "      solver = Solver(bootstrap_with=clauses)\n",
        "\n",
        "      if solver.solve():\n",
        "        model = solver.get_model()\n",
        "        print_solution(model, StartBoard, s)\n",
        "        break\n",
        "\n",
        "      Delete_Final_clause(clauses, goal_position, s)\n",
        "      solver.delete()\n",
        "    else:\n",
        "      print(\"No solution found\")\n",
        "\n",
        "    return None"
      ],
      "metadata": {
        "id": "MwznUsihEsOe"
      },
      "execution_count": 10,
      "outputs": []
    },
    {
      "cell_type": "markdown",
      "source": [
        "#Game Creator\n",
        "Creating games."
      ],
      "metadata": {
        "id": "nCUBfLgSE37a"
      }
    },
    {
      "cell_type": "code",
      "source": [
        "if __name__ == '__main__':\n",
        "\n",
        "    goal_position = (3, 4)\n",
        "    StartBoard = [\n",
        "        [0, 0, 0, 0, 0],\n",
        "        ['p', 'b', 1, 0, 0],\n",
        "        [0, 0, 0, 0, 0],\n",
        "        [0, 0, 1, 0, 0],\n",
        "        [0, 0, 1, 0, 0]\n",
        "    ]\n",
        "\n",
        "    max_steps = 11\n",
        "\n",
        "    solve_sokoban(StartBoard, goal_position, max_steps)\n"
      ],
      "metadata": {
        "id": "OQhxwHoOhpv4",
        "colab": {
          "base_uri": "https://localhost:8080/"
        },
        "outputId": "176e5c8c-5697-495b-f33a-fe94cbbe3d71"
      },
      "execution_count": 11,
      "outputs": [
        {
          "output_type": "stream",
          "name": "stdout",
          "text": [
            "\n",
            "## Solution:\n",
            "\n",
            " Number of steps: 11\n",
            "\n",
            "\n",
            " STEP 0 Board:\n",
            "0 0 0 0 0 \n",
            "p b 1 0 0 \n",
            "0 0 0 0 0 \n",
            "0 0 1 0 0 \n",
            "0 0 1 0 0 \n",
            "\n",
            " STEP 1 Board:\n",
            "p 0 0 0 0 \n",
            "0 b 1 0 0 \n",
            "0 0 0 0 0 \n",
            "0 0 1 0 0 \n",
            "0 0 1 0 0 \n",
            "\n",
            " STEP 2 Board:\n",
            "0 p 0 0 0 \n",
            "0 b 1 0 0 \n",
            "0 0 0 0 0 \n",
            "0 0 1 0 0 \n",
            "0 0 1 0 0 \n",
            "\n",
            " STEP 3 Board:\n",
            "0 0 0 0 0 \n",
            "0 p 1 0 0 \n",
            "0 b 0 0 0 \n",
            "0 0 1 0 0 \n",
            "0 0 1 0 0 \n",
            "\n",
            " STEP 4 Board:\n",
            "0 0 0 0 0 \n",
            "p 0 1 0 0 \n",
            "0 b 0 0 0 \n",
            "0 0 1 0 0 \n",
            "0 0 1 0 0 \n",
            "\n",
            " STEP 5 Board:\n",
            "0 0 0 0 0 \n",
            "0 0 1 0 0 \n",
            "p b 0 0 0 \n",
            "0 0 1 0 0 \n",
            "0 0 1 0 0 \n",
            "\n",
            " STEP 6 Board:\n",
            "0 0 0 0 0 \n",
            "0 0 1 0 0 \n",
            "0 p b 0 0 \n",
            "0 0 1 0 0 \n",
            "0 0 1 0 0 \n",
            "\n",
            " STEP 7 Board:\n",
            "0 0 0 0 0 \n",
            "0 0 1 0 0 \n",
            "0 0 p b 0 \n",
            "0 0 1 0 0 \n",
            "0 0 1 0 0 \n",
            "\n",
            " STEP 8 Board:\n",
            "0 0 0 0 0 \n",
            "0 0 1 0 0 \n",
            "0 0 0 p b \n",
            "0 0 1 0 0 \n",
            "0 0 1 0 0 \n",
            "\n",
            " STEP 9 Board:\n",
            "0 0 0 0 0 \n",
            "0 0 1 p 0 \n",
            "0 0 0 0 b \n",
            "0 0 1 0 0 \n",
            "0 0 1 0 0 \n",
            "\n",
            " STEP 10 Board:\n",
            "0 0 0 0 0 \n",
            "0 0 1 0 p \n",
            "0 0 0 0 b \n",
            "0 0 1 0 0 \n",
            "0 0 1 0 0 \n",
            "\n",
            " STEP 11 Board:\n",
            "0 0 0 0 0 \n",
            "0 0 1 0 0 \n",
            "0 0 0 0 p \n",
            "0 0 1 0 b \n",
            "0 0 1 0 0 \n",
            "\n",
            "## END of solution\n"
          ]
        }
      ]
    }
  ]
}